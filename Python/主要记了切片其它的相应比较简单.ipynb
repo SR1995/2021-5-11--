{
 "metadata": {
  "language_info": {
   "codemirror_mode": {
    "name": "ipython",
    "version": 3
   },
   "file_extension": ".py",
   "mimetype": "text/x-python",
   "name": "python",
   "nbconvert_exporter": "python",
   "pygments_lexer": "ipython3",
   "version": "3.9.4"
  },
  "orig_nbformat": 2,
  "kernelspec": {
   "name": "python394jvsc74a57bd00a0d2cdf01d780dc0fc9393a1a5a878618225e5e9580cc94244a987225bc7edb",
   "display_name": "Python 3.9.4 64-bit"
  },
  "metadata": {
   "interpreter": {
    "hash": "0a0d2cdf01d780dc0fc9393a1a5a878618225e5e9580cc94244a987225bc7edb"
   }
  }
 },
 "nbformat": 4,
 "nbformat_minor": 2,
 "cells": [
  {
   "cell_type": "code",
   "execution_count": 1,
   "metadata": {},
   "outputs": [
    {
     "output_type": "stream",
     "name": "stdout",
     "text": [
      "ab\n"
     ]
    }
   ],
   "source": [
    "#python的字符串可以用+ 做拼接\n",
    "s1 = 'a'\n",
    "s2 = 'b'\n",
    "print(s1+s2)"
   ]
  },
  {
   "cell_type": "code",
   "execution_count": 8,
   "metadata": {},
   "outputs": [
    {
     "output_type": "execute_result",
     "data": {
      "text/plain": [
       "'ell'"
      ]
     },
     "metadata": {},
     "execution_count": 8
    }
   ],
   "source": [
    "#python字符串可以通过索引得到其中的字符 索引从0开始\n",
    "mystr = \"hello world\"\n",
    "mystr[1]\n",
    "#python字符串可以通过切片方式来获取字串\n",
    "'''\n",
    "    [a:b:c] a为起始位置 b为结束位置 c为步长(当步长为负时反取字符串)  注意:包头不包尾 也就是a=0,b=4获取的字符串范围时0到3\n",
    "    a和b都能不要\n",
    "        当a不要的时候默认从开头取 取到b-1结束\n",
    "        当b不要的时候默认从a开始取 取到最后一个字符\n",
    "    a和b都能为负 \n",
    "        当a为1的时候是从第一个字符开始取\n",
    "        当a-1的时候时从最后一个字符开始取\n",
    "    有些人会被这种索引搞晕 \n",
    "        因为有种情况是索引不到的 就是起始位置大于结束位置 \n",
    "        这对a b为正为负都是一样 其实想一下就明白了\n",
    "        \n",
    "'''\n",
    "mystr[1:4]\n"
   ]
  },
  {
   "cell_type": "code",
   "execution_count": 7,
   "metadata": {},
   "outputs": [
    {
     "output_type": "execute_result",
     "data": {
      "text/plain": [
       "'hel'"
      ]
     },
     "metadata": {},
     "execution_count": 7
    }
   ],
   "source": [
    "mystr[:3]"
   ]
  },
  {
   "cell_type": "code",
   "execution_count": 9,
   "metadata": {},
   "outputs": [
    {
     "output_type": "execute_result",
     "data": {
      "text/plain": [
       "'lo world'"
      ]
     },
     "metadata": {},
     "execution_count": 9
    }
   ],
   "source": [
    "mystr[3:]"
   ]
  },
  {
   "cell_type": "code",
   "execution_count": 21,
   "metadata": {},
   "outputs": [
    {
     "output_type": "execute_result",
     "data": {
      "text/plain": [
       "'dlrow olleh'"
      ]
     },
     "metadata": {},
     "execution_count": 21
    }
   ],
   "source": [
    "mystr[::-1]"
   ]
  },
  {
   "cell_type": "code",
   "execution_count": null,
   "metadata": {},
   "outputs": [],
   "source": []
  }
 ]
}